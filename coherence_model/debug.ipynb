{
 "cells": [
  {
   "cell_type": "code",
   "execution_count": 20,
   "metadata": {
    "collapsed": true
   },
   "outputs": [
    {
     "ename": "FileNotFoundError",
     "evalue": "[Errno 2] No such file or directory: './project/Turtle_Soup'",
     "output_type": "error",
     "traceback": [
      "\u001B[0;31m---------------------------------------------------------------------------\u001B[0m",
      "\u001B[0;31mFileNotFoundError\u001B[0m                         Traceback (most recent call last)",
      "\u001B[0;32m/tmp/ipykernel_231585/928194809.py\u001B[0m in \u001B[0;36m<module>\u001B[0;34m\u001B[0m\n\u001B[1;32m      3\u001B[0m \u001B[0;32mfrom\u001B[0m \u001B[0mdatasets\u001B[0m \u001B[0;32mimport\u001B[0m \u001B[0mload_dataset\u001B[0m\u001B[0;34m\u001B[0m\u001B[0;34m\u001B[0m\u001B[0m\n\u001B[1;32m      4\u001B[0m \u001B[0;32mimport\u001B[0m \u001B[0mos\u001B[0m\u001B[0;34m\u001B[0m\u001B[0;34m\u001B[0m\u001B[0m\n\u001B[0;32m----> 5\u001B[0;31m \u001B[0mos\u001B[0m\u001B[0;34m.\u001B[0m\u001B[0mchdir\u001B[0m\u001B[0;34m(\u001B[0m\u001B[0;34m\"./project/Turtle_Soup\"\u001B[0m\u001B[0;34m)\u001B[0m\u001B[0;34m\u001B[0m\u001B[0;34m\u001B[0m\u001B[0m\n\u001B[0m",
      "\u001B[0;31mFileNotFoundError\u001B[0m: [Errno 2] No such file or directory: './project/Turtle_Soup'"
     ]
    }
   ],
   "source": [
    "import pandas as pd\n",
    "from tqdm import tqdm\n",
    "import json\n",
    "from datasets import load_dataset\n",
    "import os\n",
    "os.chdir(\"./project/Turtle_Soup\")"
   ]
  },
  {
   "cell_type": "code",
   "execution_count": 2,
   "outputs": [
    {
     "name": "stderr",
     "output_type": "stream",
     "text": [
      "Reusing dataset scifi_tv_shows (/home/charon/.cache/huggingface/datasets/lara-martin___scifi_tv_shows/Scifi_TV_Shows/1.1.0/95cba58eced6203c21f19baab42c3fca909b95118c1e17d0c20e92bf82c7eba9)\n"
     ]
    },
    {
     "data": {
      "text/plain": "HBox(children=(FloatProgress(value=0.0, max=3.0), HTML(value='')))",
      "application/vnd.jupyter.widget-view+json": {
       "version_major": 2,
       "version_minor": 0,
       "model_id": "16998174b74f4d7db72b1bb7f6ce4c3f"
      }
     },
     "metadata": {},
     "output_type": "display_data"
    },
    {
     "name": "stdout",
     "output_type": "stream",
     "text": [
      "\n"
     ]
    }
   ],
   "source": [
    "dataset = load_dataset(\"lara-martin/Scifi_TV_Shows\")"
   ],
   "metadata": {
    "collapsed": false,
    "pycharm": {
     "name": "#%%\n"
    }
   }
  },
  {
   "cell_type": "code",
   "execution_count": 3,
   "outputs": [
    {
     "data": {
      "text/plain": "DatasetDict({\n    train: Dataset({\n        features: ['story_num', 'story_line', 'event', 'gen_event', 'sent', 'gen_sent', 'entities'],\n        num_rows: 257108\n    })\n    test: Dataset({\n        features: ['story_num', 'story_line', 'event', 'gen_event', 'sent', 'gen_sent', 'entities'],\n        num_rows: 30938\n    })\n    validation: Dataset({\n        features: ['story_num', 'story_line', 'event', 'gen_event', 'sent', 'gen_sent', 'entities'],\n        num_rows: 32855\n    })\n})"
     },
     "execution_count": 3,
     "metadata": {},
     "output_type": "execute_result"
    }
   ],
   "source": [
    "dataset"
   ],
   "metadata": {
    "collapsed": false,
    "pycharm": {
     "name": "#%%\n"
    }
   }
  },
  {
   "cell_type": "code",
   "execution_count": 27,
   "outputs": [
    {
     "data": {
      "text/plain": "['Weir', 'enter', 'EmptyParameter', 'EmptyParameter', 'EmptyParameter']"
     },
     "execution_count": 27,
     "metadata": {},
     "output_type": "execute_result"
    }
   ],
   "source": [
    "import ast\n",
    "ast.literal_eval(\"['Weir', 'enter', 'EmptyParameter', 'EmptyParameter', 'EmptyParameter']\")"
   ],
   "metadata": {
    "collapsed": false,
    "pycharm": {
     "name": "#%%\n"
    }
   }
  },
  {
   "cell_type": "code",
   "execution_count": 4,
   "outputs": [
    {
     "data": {
      "text/plain": "{'story_num': 0,\n 'story_line': 1,\n 'event': [\"['Weir', 'enter', 'EmptyParameter', 'EmptyParameter', 'EmptyParameter']\",\n  \"['Weir', 'tell', 'he', 'EmptyParameter', 'EmptyParameter']\"],\n 'gen_event': [\"['<PERSON>1', 'escape-51.1', 'EmptyParameter', 'EmptyParameter', 'EmptyParameter']\",\n  \"['<PERSON>1', 'transfer_mesg-37.1.1', '<PRP>', 'EmptyParameter', 'EmptyParameter']\"],\n 'sent': 'At Stargate Command Dr Daniel Jackson plans to go to Antarctica but then Dr Elizabeth Weir enters and tells him.',\n 'gen_sent': \"at <VESSEL>0 <LOCATION>0 <PERSON>0 plans to go to Synset('antarctica.n.01') but then <PERSON>0 <PERSON>1 enters and tells <PRP>.\",\n 'entities': \"{'<ORGANIZATION>': ['goauld', 'system lords', 'amaterasu', 'kull warriors', 'orilla'], '<OBJECT>': ['replicators', 'replicator'], '<LOCATION>': ['stargate command', 'othala', 'asgard', 'hyperspace', 'hala', 'earth', 'neutronium'], '<DATE>': ['the future'], '<MISC>': ['goauld system lord', 'human form replicators', 'camulus', 'tartarus'], '<DURATION>': ['two years'], '<NUMBER>': ['two'], '<PERSON>': ['dr daniel jackson', 'dr elizabeth weir', 'major samantha carter', 'colonel jack neill', 'teac', 'president henry hayes', 'lord yu', 'thor', 'first prime oshu', 'baal', 'earth daniel'], '<VESSEL>': ['stargate', 'teltak']})\"}"
     },
     "execution_count": 4,
     "metadata": {},
     "output_type": "execute_result"
    }
   ],
   "source": [
    "dataset[\"train\"][1]"
   ],
   "metadata": {
    "collapsed": false,
    "pycharm": {
     "name": "#%%\n"
    }
   }
  },
  {
   "cell_type": "code",
   "execution_count": 16,
   "outputs": [
    {
     "data": {
      "text/plain": "False"
     },
     "execution_count": 16,
     "metadata": {},
     "output_type": "execute_result"
    }
   ],
   "source": [
    "dataset[\"train\"][\"story_num\"]==0"
   ],
   "metadata": {
    "collapsed": false,
    "pycharm": {
     "name": "#%%\n"
    }
   }
  },
  {
   "cell_type": "markdown",
   "source": [
    "### Exact all events"
   ],
   "metadata": {
    "collapsed": false
   }
  },
  {
   "cell_type": "code",
   "execution_count": 12,
   "outputs": [
    {
     "name": "stderr",
     "output_type": "stream",
     "text": [
      "100%|███████████████████████████████████████████████████████████████████████████████████████████████| 257108/257108 [00:20<00:00, 12266.28it/s]\n"
     ]
    }
   ],
   "source": [
    "story_num = []\n",
    "\n",
    "event = []\n",
    "sent = []\n",
    "gen_event = []\n",
    "story_num = []\n",
    "story_line = []\n",
    "coherence = []\n",
    "\n",
    "# event by story\n",
    "\n",
    "# for example in tqdm(dataset[\"train\"], total=len(dataset[\"train\"])):\n",
    "#     story_num.append(example[\"story_num\"])\n",
    "#     story_line.append(example[\"story_line\"])\n",
    "#     event.append(example[\"event\"])\n",
    "#     sent.append(example[\"sent\"])\n",
    "#     gen_event.append(example[\"gen_event\"])\n",
    "\n",
    "# TODO flatten events\n",
    "for example in tqdm(dataset[\"train\"], total=len(dataset[\"train\"])):\n",
    "    num_event = len(example[\"event\"])\n",
    "    story_num.extend([example[\"story_num\"]]*num_event)\n",
    "    story_line.extend([example[\"story_line\"]]*num_event)\n",
    "    event.extend(example[\"event\"])\n",
    "    sent.extend([example[\"sent\"]]*num_event)\n",
    "    gen_event.extend(example[\"gen_event\"])\n"
   ],
   "metadata": {
    "collapsed": false,
    "pycharm": {
     "name": "#%%\n"
    }
   }
  },
  {
   "cell_type": "code",
   "execution_count": 18,
   "outputs": [],
   "source": [
    "train = pd.DataFrame()\n",
    "train[\"index\"] = range(len(story_num))\n",
    "train[\"story_num\"] = story_num\n",
    "train[\"story_line\"] = story_line\n",
    "train[\"event\"] = event\n",
    "train[\"sent\"] = sent\n",
    "train[\"gen_event\"] = gen_event"
   ],
   "metadata": {
    "collapsed": false,
    "pycharm": {
     "name": "#%%\n"
    }
   }
  },
  {
   "cell_type": "code",
   "execution_count": 28,
   "outputs": [
    {
     "data": {
      "text/plain": "    index  story_num  story_line  \\\n0       0          0           0   \n1       1          0           1   \n2       2          0           1   \n3       3          0           2   \n4       4          0           3   \n5       5          0           4   \n6       6          0           5   \n7       7          0           5   \n8       8          0           6   \n9       9          0           7   \n10     10          0           7   \n11     11          0           7   \n12     12          0           8   \n13     13          0           9   \n14     14          0           9   \n15     15          0          10   \n16     16          0          11   \n17     17          0          12   \n18     18          0          13   \n19     19          0          13   \n20     20          0          14   \n21     21          0          15   \n22     22          0          15   \n23     23          0          16   \n24     24          0          17   \n25     25          0          18   \n26     26          0          19   \n27     27          0          19   \n28     28          0          19   \n29     29          0          20   \n30     30          0          21   \n31     31          0          21   \n32     32          0          22   \n33     33          0          23   \n34     34          0          24   \n35     35          0          25   \n36     36          0          25   \n37     37          0          26   \n38     38          0          27   \n39     39          0          27   \n40     40          0          27   \n41     41          0          28   \n42     42          0          28   \n43     43          0          29   \n44     44          0          30   \n45     45          0          30   \n46     46          0          31   \n47     47          0          31   \n48     48          0          31   \n49     49          0          32   \n\n                                                event  \\\n0   ['talk', 'stall', 'EmptyParameter', 'EmptyPara...   \n1   ['Weir', 'enter', 'EmptyParameter', 'EmptyPara...   \n2   ['Weir', 'tell', 'he', 'EmptyParameter', 'Empt...   \n3   ['he', 'get', 'angry', 'EmptyParameter', 'Empt...   \n4   ['she', 'do', 'anything', 'EmptyParameter', 'E...   \n5   ['she', 'leave', 'EmptyParameter', 'EmptyParam...   \n6   ['they', 'allow', 'use', 'EmptyParameter', 'Em...   \n7   ['they', 'use', 'Stargate', 'EmptyParameter', ...   \n8   ['she', 'talk', 'EmptyParameter', 'sg-1', 'with']   \n9   ['they', 'use', 'it', 'EmptyParameter', 'Empty...   \n10  ['they', 'want', 'show', 'EmptyParameter', 'Em...   \n11  ['they', 'show', 'goodwill', 'EmptyParameter',...   \n12  ['she', 'tell', 'they', 'EmptyParameter', 'Emp...   \n13  ['Carter', 'propose', 'use', 'teltak', 'EmptyP...   \n14  ['Asgard', 'help', 'Neill', 'EmptyParameter', ...   \n15           ['they', 'need', 'ship', 'future', 'in']   \n16  ['engine', 'burn', 'EmptyParameter', 'flight',...   \n17  ['Weir', 'deny', 'request', 'EmptyParameter', ...   \n18  ['EmptyParameter', 'ask', 'she', 'EmptyParamet...   \n19  ['she', 'reconsider', 'request', 'EmptyParamet...   \n20  ['she', 'deny', 'EmptyParameter', 'EmptyParame...   \n21  ['Carter', 'threaten', 'refuse', 'EmptyParamet...   \n22  ['Carter', 'refuse', 'work', 'EmptyParameter',...   \n23  ['she', 'get', 'allowance', 'EmptyParameter', ...   \n24  ['Carter', 'talk', 'EmptyParameter', 'Teac', '...   \n25  ['Daniel', 'enter', 'EmptyParameter', 'EmptyPa...   \n26  ['he', 'have', 'stay', 'EmptyParameter', 'Empt...   \n27  ['he', 'stay', 'EmptyParameter', 'EmptyParamet...   \n28  ['two', 'fail', 'EmptyParameter', 'EmptyParame...   \n29  ['he', 'inform', 'EmptyParameter', 'EmptyParam...   \n30  ['Carter', 'fly', 'EmptyParameter', 'hyperspac...   \n31  ['Teac', 'fly', 'EmptyParameter', 'hyperspace'...   \n32  ['Neill', 'modify', 'engine', 'EmptyParameter'...   \n33  ['he', 'do', 'it', 'EmptyParameter', 'EmptyPar...   \n34  ['she', 'find', 'EmptyParameter', 'EmptyParame...   \n35  ['she', 'try', 'start', 'EmptyParameter', 'Emp...   \n36  ['she', 'start', 'conversation', 'EmptyParamet...   \n37  ['gate', 'activate', 'EmptyParameter', 'EmptyP...   \n38  ['they', 'receive', 'message', 'EmptyParameter...   \n39  ['Lord', 'want', 'arrange', 'EmptyParameter', ...   \n40  ['Lord', 'arrange', 'meeting', 'EmptyParameter...   \n41      ['Weir', 'authorize', 'start', 'Hayes', 'by']   \n42  ['Weir', 'start', 'negotiation', 'EmptyParamet...   \n43      ['Daniel', 'inform', 'she', 'Lords', 'about']   \n44  ['sun', 'become', 'hole', 'EmptyParameter', 'E...   \n45  ['engine', 'burn', 'EmptyParameter', 'EmptyPar...   \n46  ['Carter', 'reach', 'Hala', 'EmptyParameter', ...   \n47  ['Carter', 'find', 'EmptyParameter', 'EmptyPar...   \n48  ['Teac', 'reach', 'Hala', 'EmptyParameter', 'E...   \n49         ['they', 'break', 'free', 'force', 'from']   \n\n                                                 sent  \\\n0                            The talks stalled again.   \n1   At Stargate Command Dr Daniel Jackson plans to...   \n2   At Stargate Command Dr Daniel Jackson plans to...   \n3                  He gets angry about the situation.   \n4                              She can't do anything.   \n5                                         She leaves.   \n6           They are not allowed to use the Stargate.   \n7           They are not allowed to use the Stargate.   \n8   She later talks with SG-1 and its members prot...   \n9   They can't use it because they want to show th...   \n10  They can't use it because they want to show th...   \n11  They can't use it because they want to show th...   \n12                                    She tells them.   \n13  Major Samantha Carter then proposes using the ...   \n14  Major Samantha Carter then proposes using the ...   \n15  They perhaps need that ship in the future to f...   \n16          The engines could burn out on the flight.   \n17                       However Weir denies request.   \n18  Later Carter talks with Weir privately and ask...   \n19  Later Carter talks with Weir privately and ask...   \n20                                        She denies.   \n21  Carter threatens to refuse to work on the modi...   \n22  Carter threatens to refuse to work on the modi...   \n23                            She gets the allowance.   \n24    Carter then talks with Teac about their flight.   \n25                                     Daniel enters.   \n26  He has to stay because if the two fail he woul...   \n27  He has to stay because if the two fail he woul...   \n28  He has to stay because if the two fail he woul...   \n29                                    He is informed.   \n30  Some time later Carter and Teac fly through hy...   \n31  Some time later Carter and Teac fly through hy...   \n32                        Neill modified the engines.   \n33                                         He did it.   \n34  During the flight Carter tries to find out but...   \n35  She then tries to start a conversation with Teac.   \n36  She then tries to start a conversation with Teac.   \n37                    Suddenly the gate is activated.   \n38  They receive a text message from Camulus, a Go...   \n39  They receive a text message from Camulus, a Go...   \n40  They receive a text message from Camulus, a Go...   \n41  Weir is then authorized by President Henry Hay...   \n42  Weir is then authorized by President Henry Hay...   \n43  Daniel informs her about the System Lords, the...   \n44  Hala's sun has become a Black hole and that th...   \n45  Hala's sun has become a Black hole and that th...   \n46     Meanwhile Carter and Teac reach Hala but find.   \n47     Meanwhile Carter and Teac reach Hala but find.   \n48     Meanwhile Carter and Teac reach Hala but find.   \n49  They are unable to break free from the gravita...   \n\n                                            gen_event  \n0   [\"Synset('report.n.02')\", 'linger-53.1-1', 'Em...  \n1   ['<PERSON>1', 'escape-51.1', 'EmptyParameter',...  \n2   ['<PERSON>1', 'transfer_mesg-37.1.1', '<PRP>',...  \n3   ['<PRP>', 'escape-51.1', \"Synset('angry.a.01')...  \n4   ['<PRP>', 'act-114', \"Synset('entity.n.01')\", ...  \n5   ['<PRP>', 'leave-51.2-1', 'EmptyParameter', 'E...  \n6   ['<PRP>', 'allow-64.1-1', 'eat-39.1-3', 'Empty...  \n7   ['<PRP>', 'eat-39.1-3', '<VESSEL>0', 'EmptyPar...  \n8   ['<PRP>', 'talk-37.5', 'EmptyParameter', 'sg-1...  \n9   ['<PRP>', 'consume-66', '<PRP>', 'EmptyParamet...  \n10  ['<PRP>', 'appoint-29.1', 'crane-40.3.2', 'Emp...  \n11  ['<PRP>', 'crane-40.3.2', \"Synset('assets.n.01...  \n12  ['<PRP>', 'transfer_mesg-37.1.1-1-1', '<PRP>',...  \n13  ['<PERSON>2', 'say-37.7-1-1', 'use-105.1', '<V...  \n14  ['<LOCATION>2', 'help-72.1-1-1', '<PERSON>3', ...  \n15  ['<PRP>', 'want-32.1', \"Synset('craft.n.02')\",...  \n16  [\"Synset('wheeled_vehicle.n.01')\", 'entity_spe...  \n17  ['<PERSON>1', 'conjecture-29.5', \"Synset('act....  \n18  ['EmptyParameter', 'inquire-37.1.2', '<PRP>', ...  \n19  ['<PRP>', 'reconsider', \"Synset('communication...  \n20  ['<PRP>', 'conjecture-29.5', 'EmptyParameter',...  \n21  ['<PERSON>2', 'amuse-31.1', 'reject-77.2', 'Em...  \n22  ['<PERSON>2', 'reject-77.2', 'work-73.2', 'Emp...  \n23  ['<PRP>', 'birth-28.2-1', \"Synset('reserve.n.0...  \n24  ['<PERSON>2', 'talk-37.5', 'EmptyParameter', '...  \n25  ['<PERSON>0', 'escape-51.1', 'EmptyParameter',...  \n26  ['<PRP>', 'own-100', 'exist-47.1', 'EmptyParam...  \n27  ['<PRP>', 'exist-47.1', 'EmptyParameter', 'Emp...  \n28  ['<NUMBER>0', 'neglect-75.1-1', 'EmptyParamete...  \n29  ['<PRP>', 'tell-37.2', 'EmptyParameter', 'Empt...  \n30  ['<PERSON>2', 'spatial_configuration-47.6-1', ...  \n31  ['<PERSON>4', 'spatial_configuration-47.6', 'E...  \n32  ['<PERSON>3', 'other_cos-45.4', \"Synset('wheel...  \n33  ['<PRP>', 'act-114', '<PRP>', 'EmptyParameter'...  \n34  ['<PRP>', 'declare-29.4-1-1-2', 'EmptyParamete...  \n35  ['<PRP>', 'try-61.1', 'marvel-31.3', 'EmptyPar...  \n36  ['<PRP>', 'marvel-31.3', \"Synset('auditory_com...  \n37  [\"Synset('passage.n.03')\", 'other_cos-45.4', '...  \n38  ['<PRP>', 'admit-64.3-1', \"Synset('abstraction...  \n39  ['<MISC>0', 'appoint-29.1', 'put-9.1', 'EmptyP...  \n40  ['<MISC>0', 'put-9.1', \"Synset('joining.n.01')...  \n41  ['<PERSON>1', 'order-58.3', 'marvel-31.3', '<P...  \n42  ['<PERSON>1', 'marvel-31.3', \"Synset('act.n.02...  \n43  ['<PERSON>0', 'tell-37.2', '<PRP>', '<ORGANIZA...  \n44  [\"Synset('day_of_the_week.n.01')\", 'become-109...  \n45  [\"Synset('wheeled_vehicle.n.01')\", 'entity_spe...  \n46  ['<PERSON>2', 'reach-51.8', '<LOCATION>4', 'Em...  \n47  ['<PERSON>2', 'discover-84', 'EmptyParameter',...  \n48  ['<PERSON>4', 'reach-51.8', '<LOCATION>4', 'Em...  \n49  ['<PRP>', 'break-45.1', \"Synset('free.a.02')\",...  ",
      "text/html": "<div>\n<style scoped>\n    .dataframe tbody tr th:only-of-type {\n        vertical-align: middle;\n    }\n\n    .dataframe tbody tr th {\n        vertical-align: top;\n    }\n\n    .dataframe thead th {\n        text-align: right;\n    }\n</style>\n<table border=\"1\" class=\"dataframe\">\n  <thead>\n    <tr style=\"text-align: right;\">\n      <th></th>\n      <th>index</th>\n      <th>story_num</th>\n      <th>story_line</th>\n      <th>event</th>\n      <th>sent</th>\n      <th>gen_event</th>\n    </tr>\n  </thead>\n  <tbody>\n    <tr>\n      <th>0</th>\n      <td>0</td>\n      <td>0</td>\n      <td>0</td>\n      <td>['talk', 'stall', 'EmptyParameter', 'EmptyPara...</td>\n      <td>The talks stalled again.</td>\n      <td>[\"Synset('report.n.02')\", 'linger-53.1-1', 'Em...</td>\n    </tr>\n    <tr>\n      <th>1</th>\n      <td>1</td>\n      <td>0</td>\n      <td>1</td>\n      <td>['Weir', 'enter', 'EmptyParameter', 'EmptyPara...</td>\n      <td>At Stargate Command Dr Daniel Jackson plans to...</td>\n      <td>['&lt;PERSON&gt;1', 'escape-51.1', 'EmptyParameter',...</td>\n    </tr>\n    <tr>\n      <th>2</th>\n      <td>2</td>\n      <td>0</td>\n      <td>1</td>\n      <td>['Weir', 'tell', 'he', 'EmptyParameter', 'Empt...</td>\n      <td>At Stargate Command Dr Daniel Jackson plans to...</td>\n      <td>['&lt;PERSON&gt;1', 'transfer_mesg-37.1.1', '&lt;PRP&gt;',...</td>\n    </tr>\n    <tr>\n      <th>3</th>\n      <td>3</td>\n      <td>0</td>\n      <td>2</td>\n      <td>['he', 'get', 'angry', 'EmptyParameter', 'Empt...</td>\n      <td>He gets angry about the situation.</td>\n      <td>['&lt;PRP&gt;', 'escape-51.1', \"Synset('angry.a.01')...</td>\n    </tr>\n    <tr>\n      <th>4</th>\n      <td>4</td>\n      <td>0</td>\n      <td>3</td>\n      <td>['she', 'do', 'anything', 'EmptyParameter', 'E...</td>\n      <td>She can't do anything.</td>\n      <td>['&lt;PRP&gt;', 'act-114', \"Synset('entity.n.01')\", ...</td>\n    </tr>\n    <tr>\n      <th>5</th>\n      <td>5</td>\n      <td>0</td>\n      <td>4</td>\n      <td>['she', 'leave', 'EmptyParameter', 'EmptyParam...</td>\n      <td>She leaves.</td>\n      <td>['&lt;PRP&gt;', 'leave-51.2-1', 'EmptyParameter', 'E...</td>\n    </tr>\n    <tr>\n      <th>6</th>\n      <td>6</td>\n      <td>0</td>\n      <td>5</td>\n      <td>['they', 'allow', 'use', 'EmptyParameter', 'Em...</td>\n      <td>They are not allowed to use the Stargate.</td>\n      <td>['&lt;PRP&gt;', 'allow-64.1-1', 'eat-39.1-3', 'Empty...</td>\n    </tr>\n    <tr>\n      <th>7</th>\n      <td>7</td>\n      <td>0</td>\n      <td>5</td>\n      <td>['they', 'use', 'Stargate', 'EmptyParameter', ...</td>\n      <td>They are not allowed to use the Stargate.</td>\n      <td>['&lt;PRP&gt;', 'eat-39.1-3', '&lt;VESSEL&gt;0', 'EmptyPar...</td>\n    </tr>\n    <tr>\n      <th>8</th>\n      <td>8</td>\n      <td>0</td>\n      <td>6</td>\n      <td>['she', 'talk', 'EmptyParameter', 'sg-1', 'with']</td>\n      <td>She later talks with SG-1 and its members prot...</td>\n      <td>['&lt;PRP&gt;', 'talk-37.5', 'EmptyParameter', 'sg-1...</td>\n    </tr>\n    <tr>\n      <th>9</th>\n      <td>9</td>\n      <td>0</td>\n      <td>7</td>\n      <td>['they', 'use', 'it', 'EmptyParameter', 'Empty...</td>\n      <td>They can't use it because they want to show th...</td>\n      <td>['&lt;PRP&gt;', 'consume-66', '&lt;PRP&gt;', 'EmptyParamet...</td>\n    </tr>\n    <tr>\n      <th>10</th>\n      <td>10</td>\n      <td>0</td>\n      <td>7</td>\n      <td>['they', 'want', 'show', 'EmptyParameter', 'Em...</td>\n      <td>They can't use it because they want to show th...</td>\n      <td>['&lt;PRP&gt;', 'appoint-29.1', 'crane-40.3.2', 'Emp...</td>\n    </tr>\n    <tr>\n      <th>11</th>\n      <td>11</td>\n      <td>0</td>\n      <td>7</td>\n      <td>['they', 'show', 'goodwill', 'EmptyParameter',...</td>\n      <td>They can't use it because they want to show th...</td>\n      <td>['&lt;PRP&gt;', 'crane-40.3.2', \"Synset('assets.n.01...</td>\n    </tr>\n    <tr>\n      <th>12</th>\n      <td>12</td>\n      <td>0</td>\n      <td>8</td>\n      <td>['she', 'tell', 'they', 'EmptyParameter', 'Emp...</td>\n      <td>She tells them.</td>\n      <td>['&lt;PRP&gt;', 'transfer_mesg-37.1.1-1-1', '&lt;PRP&gt;',...</td>\n    </tr>\n    <tr>\n      <th>13</th>\n      <td>13</td>\n      <td>0</td>\n      <td>9</td>\n      <td>['Carter', 'propose', 'use', 'teltak', 'EmptyP...</td>\n      <td>Major Samantha Carter then proposes using the ...</td>\n      <td>['&lt;PERSON&gt;2', 'say-37.7-1-1', 'use-105.1', '&lt;V...</td>\n    </tr>\n    <tr>\n      <th>14</th>\n      <td>14</td>\n      <td>0</td>\n      <td>9</td>\n      <td>['Asgard', 'help', 'Neill', 'EmptyParameter', ...</td>\n      <td>Major Samantha Carter then proposes using the ...</td>\n      <td>['&lt;LOCATION&gt;2', 'help-72.1-1-1', '&lt;PERSON&gt;3', ...</td>\n    </tr>\n    <tr>\n      <th>15</th>\n      <td>15</td>\n      <td>0</td>\n      <td>10</td>\n      <td>['they', 'need', 'ship', 'future', 'in']</td>\n      <td>They perhaps need that ship in the future to f...</td>\n      <td>['&lt;PRP&gt;', 'want-32.1', \"Synset('craft.n.02')\",...</td>\n    </tr>\n    <tr>\n      <th>16</th>\n      <td>16</td>\n      <td>0</td>\n      <td>11</td>\n      <td>['engine', 'burn', 'EmptyParameter', 'flight',...</td>\n      <td>The engines could burn out on the flight.</td>\n      <td>[\"Synset('wheeled_vehicle.n.01')\", 'entity_spe...</td>\n    </tr>\n    <tr>\n      <th>17</th>\n      <td>17</td>\n      <td>0</td>\n      <td>12</td>\n      <td>['Weir', 'deny', 'request', 'EmptyParameter', ...</td>\n      <td>However Weir denies request.</td>\n      <td>['&lt;PERSON&gt;1', 'conjecture-29.5', \"Synset('act....</td>\n    </tr>\n    <tr>\n      <th>18</th>\n      <td>18</td>\n      <td>0</td>\n      <td>13</td>\n      <td>['EmptyParameter', 'ask', 'she', 'EmptyParamet...</td>\n      <td>Later Carter talks with Weir privately and ask...</td>\n      <td>['EmptyParameter', 'inquire-37.1.2', '&lt;PRP&gt;', ...</td>\n    </tr>\n    <tr>\n      <th>19</th>\n      <td>19</td>\n      <td>0</td>\n      <td>13</td>\n      <td>['she', 'reconsider', 'request', 'EmptyParamet...</td>\n      <td>Later Carter talks with Weir privately and ask...</td>\n      <td>['&lt;PRP&gt;', 'reconsider', \"Synset('communication...</td>\n    </tr>\n    <tr>\n      <th>20</th>\n      <td>20</td>\n      <td>0</td>\n      <td>14</td>\n      <td>['she', 'deny', 'EmptyParameter', 'EmptyParame...</td>\n      <td>She denies.</td>\n      <td>['&lt;PRP&gt;', 'conjecture-29.5', 'EmptyParameter',...</td>\n    </tr>\n    <tr>\n      <th>21</th>\n      <td>21</td>\n      <td>0</td>\n      <td>15</td>\n      <td>['Carter', 'threaten', 'refuse', 'EmptyParamet...</td>\n      <td>Carter threatens to refuse to work on the modi...</td>\n      <td>['&lt;PERSON&gt;2', 'amuse-31.1', 'reject-77.2', 'Em...</td>\n    </tr>\n    <tr>\n      <th>22</th>\n      <td>22</td>\n      <td>0</td>\n      <td>15</td>\n      <td>['Carter', 'refuse', 'work', 'EmptyParameter',...</td>\n      <td>Carter threatens to refuse to work on the modi...</td>\n      <td>['&lt;PERSON&gt;2', 'reject-77.2', 'work-73.2', 'Emp...</td>\n    </tr>\n    <tr>\n      <th>23</th>\n      <td>23</td>\n      <td>0</td>\n      <td>16</td>\n      <td>['she', 'get', 'allowance', 'EmptyParameter', ...</td>\n      <td>She gets the allowance.</td>\n      <td>['&lt;PRP&gt;', 'birth-28.2-1', \"Synset('reserve.n.0...</td>\n    </tr>\n    <tr>\n      <th>24</th>\n      <td>24</td>\n      <td>0</td>\n      <td>17</td>\n      <td>['Carter', 'talk', 'EmptyParameter', 'Teac', '...</td>\n      <td>Carter then talks with Teac about their flight.</td>\n      <td>['&lt;PERSON&gt;2', 'talk-37.5', 'EmptyParameter', '...</td>\n    </tr>\n    <tr>\n      <th>25</th>\n      <td>25</td>\n      <td>0</td>\n      <td>18</td>\n      <td>['Daniel', 'enter', 'EmptyParameter', 'EmptyPa...</td>\n      <td>Daniel enters.</td>\n      <td>['&lt;PERSON&gt;0', 'escape-51.1', 'EmptyParameter',...</td>\n    </tr>\n    <tr>\n      <th>26</th>\n      <td>26</td>\n      <td>0</td>\n      <td>19</td>\n      <td>['he', 'have', 'stay', 'EmptyParameter', 'Empt...</td>\n      <td>He has to stay because if the two fail he woul...</td>\n      <td>['&lt;PRP&gt;', 'own-100', 'exist-47.1', 'EmptyParam...</td>\n    </tr>\n    <tr>\n      <th>27</th>\n      <td>27</td>\n      <td>0</td>\n      <td>19</td>\n      <td>['he', 'stay', 'EmptyParameter', 'EmptyParamet...</td>\n      <td>He has to stay because if the two fail he woul...</td>\n      <td>['&lt;PRP&gt;', 'exist-47.1', 'EmptyParameter', 'Emp...</td>\n    </tr>\n    <tr>\n      <th>28</th>\n      <td>28</td>\n      <td>0</td>\n      <td>19</td>\n      <td>['two', 'fail', 'EmptyParameter', 'EmptyParame...</td>\n      <td>He has to stay because if the two fail he woul...</td>\n      <td>['&lt;NUMBER&gt;0', 'neglect-75.1-1', 'EmptyParamete...</td>\n    </tr>\n    <tr>\n      <th>29</th>\n      <td>29</td>\n      <td>0</td>\n      <td>20</td>\n      <td>['he', 'inform', 'EmptyParameter', 'EmptyParam...</td>\n      <td>He is informed.</td>\n      <td>['&lt;PRP&gt;', 'tell-37.2', 'EmptyParameter', 'Empt...</td>\n    </tr>\n    <tr>\n      <th>30</th>\n      <td>30</td>\n      <td>0</td>\n      <td>21</td>\n      <td>['Carter', 'fly', 'EmptyParameter', 'hyperspac...</td>\n      <td>Some time later Carter and Teac fly through hy...</td>\n      <td>['&lt;PERSON&gt;2', 'spatial_configuration-47.6-1', ...</td>\n    </tr>\n    <tr>\n      <th>31</th>\n      <td>31</td>\n      <td>0</td>\n      <td>21</td>\n      <td>['Teac', 'fly', 'EmptyParameter', 'hyperspace'...</td>\n      <td>Some time later Carter and Teac fly through hy...</td>\n      <td>['&lt;PERSON&gt;4', 'spatial_configuration-47.6', 'E...</td>\n    </tr>\n    <tr>\n      <th>32</th>\n      <td>32</td>\n      <td>0</td>\n      <td>22</td>\n      <td>['Neill', 'modify', 'engine', 'EmptyParameter'...</td>\n      <td>Neill modified the engines.</td>\n      <td>['&lt;PERSON&gt;3', 'other_cos-45.4', \"Synset('wheel...</td>\n    </tr>\n    <tr>\n      <th>33</th>\n      <td>33</td>\n      <td>0</td>\n      <td>23</td>\n      <td>['he', 'do', 'it', 'EmptyParameter', 'EmptyPar...</td>\n      <td>He did it.</td>\n      <td>['&lt;PRP&gt;', 'act-114', '&lt;PRP&gt;', 'EmptyParameter'...</td>\n    </tr>\n    <tr>\n      <th>34</th>\n      <td>34</td>\n      <td>0</td>\n      <td>24</td>\n      <td>['she', 'find', 'EmptyParameter', 'EmptyParame...</td>\n      <td>During the flight Carter tries to find out but...</td>\n      <td>['&lt;PRP&gt;', 'declare-29.4-1-1-2', 'EmptyParamete...</td>\n    </tr>\n    <tr>\n      <th>35</th>\n      <td>35</td>\n      <td>0</td>\n      <td>25</td>\n      <td>['she', 'try', 'start', 'EmptyParameter', 'Emp...</td>\n      <td>She then tries to start a conversation with Teac.</td>\n      <td>['&lt;PRP&gt;', 'try-61.1', 'marvel-31.3', 'EmptyPar...</td>\n    </tr>\n    <tr>\n      <th>36</th>\n      <td>36</td>\n      <td>0</td>\n      <td>25</td>\n      <td>['she', 'start', 'conversation', 'EmptyParamet...</td>\n      <td>She then tries to start a conversation with Teac.</td>\n      <td>['&lt;PRP&gt;', 'marvel-31.3', \"Synset('auditory_com...</td>\n    </tr>\n    <tr>\n      <th>37</th>\n      <td>37</td>\n      <td>0</td>\n      <td>26</td>\n      <td>['gate', 'activate', 'EmptyParameter', 'EmptyP...</td>\n      <td>Suddenly the gate is activated.</td>\n      <td>[\"Synset('passage.n.03')\", 'other_cos-45.4', '...</td>\n    </tr>\n    <tr>\n      <th>38</th>\n      <td>38</td>\n      <td>0</td>\n      <td>27</td>\n      <td>['they', 'receive', 'message', 'EmptyParameter...</td>\n      <td>They receive a text message from Camulus, a Go...</td>\n      <td>['&lt;PRP&gt;', 'admit-64.3-1', \"Synset('abstraction...</td>\n    </tr>\n    <tr>\n      <th>39</th>\n      <td>39</td>\n      <td>0</td>\n      <td>27</td>\n      <td>['Lord', 'want', 'arrange', 'EmptyParameter', ...</td>\n      <td>They receive a text message from Camulus, a Go...</td>\n      <td>['&lt;MISC&gt;0', 'appoint-29.1', 'put-9.1', 'EmptyP...</td>\n    </tr>\n    <tr>\n      <th>40</th>\n      <td>40</td>\n      <td>0</td>\n      <td>27</td>\n      <td>['Lord', 'arrange', 'meeting', 'EmptyParameter...</td>\n      <td>They receive a text message from Camulus, a Go...</td>\n      <td>['&lt;MISC&gt;0', 'put-9.1', \"Synset('joining.n.01')...</td>\n    </tr>\n    <tr>\n      <th>41</th>\n      <td>41</td>\n      <td>0</td>\n      <td>28</td>\n      <td>['Weir', 'authorize', 'start', 'Hayes', 'by']</td>\n      <td>Weir is then authorized by President Henry Hay...</td>\n      <td>['&lt;PERSON&gt;1', 'order-58.3', 'marvel-31.3', '&lt;P...</td>\n    </tr>\n    <tr>\n      <th>42</th>\n      <td>42</td>\n      <td>0</td>\n      <td>28</td>\n      <td>['Weir', 'start', 'negotiation', 'EmptyParamet...</td>\n      <td>Weir is then authorized by President Henry Hay...</td>\n      <td>['&lt;PERSON&gt;1', 'marvel-31.3', \"Synset('act.n.02...</td>\n    </tr>\n    <tr>\n      <th>43</th>\n      <td>43</td>\n      <td>0</td>\n      <td>29</td>\n      <td>['Daniel', 'inform', 'she', 'Lords', 'about']</td>\n      <td>Daniel informs her about the System Lords, the...</td>\n      <td>['&lt;PERSON&gt;0', 'tell-37.2', '&lt;PRP&gt;', '&lt;ORGANIZA...</td>\n    </tr>\n    <tr>\n      <th>44</th>\n      <td>44</td>\n      <td>0</td>\n      <td>30</td>\n      <td>['sun', 'become', 'hole', 'EmptyParameter', 'E...</td>\n      <td>Hala's sun has become a Black hole and that th...</td>\n      <td>[\"Synset('day_of_the_week.n.01')\", 'become-109...</td>\n    </tr>\n    <tr>\n      <th>45</th>\n      <td>45</td>\n      <td>0</td>\n      <td>30</td>\n      <td>['engine', 'burn', 'EmptyParameter', 'EmptyPar...</td>\n      <td>Hala's sun has become a Black hole and that th...</td>\n      <td>[\"Synset('wheeled_vehicle.n.01')\", 'entity_spe...</td>\n    </tr>\n    <tr>\n      <th>46</th>\n      <td>46</td>\n      <td>0</td>\n      <td>31</td>\n      <td>['Carter', 'reach', 'Hala', 'EmptyParameter', ...</td>\n      <td>Meanwhile Carter and Teac reach Hala but find.</td>\n      <td>['&lt;PERSON&gt;2', 'reach-51.8', '&lt;LOCATION&gt;4', 'Em...</td>\n    </tr>\n    <tr>\n      <th>47</th>\n      <td>47</td>\n      <td>0</td>\n      <td>31</td>\n      <td>['Carter', 'find', 'EmptyParameter', 'EmptyPar...</td>\n      <td>Meanwhile Carter and Teac reach Hala but find.</td>\n      <td>['&lt;PERSON&gt;2', 'discover-84', 'EmptyParameter',...</td>\n    </tr>\n    <tr>\n      <th>48</th>\n      <td>48</td>\n      <td>0</td>\n      <td>31</td>\n      <td>['Teac', 'reach', 'Hala', 'EmptyParameter', 'E...</td>\n      <td>Meanwhile Carter and Teac reach Hala but find.</td>\n      <td>['&lt;PERSON&gt;4', 'reach-51.8', '&lt;LOCATION&gt;4', 'Em...</td>\n    </tr>\n    <tr>\n      <th>49</th>\n      <td>49</td>\n      <td>0</td>\n      <td>32</td>\n      <td>['they', 'break', 'free', 'force', 'from']</td>\n      <td>They are unable to break free from the gravita...</td>\n      <td>['&lt;PRP&gt;', 'break-45.1', \"Synset('free.a.02')\",...</td>\n    </tr>\n  </tbody>\n</table>\n</div>"
     },
     "execution_count": 28,
     "metadata": {},
     "output_type": "execute_result"
    }
   ],
   "source": [
    "train.to_csv(\"./data/cmu_scifi/train_flatten.csv\")\n",
    "train.head(50)"
   ],
   "metadata": {
    "collapsed": false,
    "pycharm": {
     "name": "#%%\n"
    }
   }
  },
  {
   "cell_type": "code",
   "execution_count": 17,
   "outputs": [],
   "source": [
    "train_pair = pd.DataFrame()\n",
    "event_1 = []\n",
    "event_2 = []\n",
    "story_num = []\n",
    "coherence = []\n",
    "event_by_story = train.groupby(by=\"story_num\")\n",
    "\n",
    "# Positve Sample\n",
    "# prevent the index overflow\n",
    "for i in tqdm(range(len(event_by_story))):\n",
    "    gf = event_by_story.get_group(i)\n",
    "    for j in range(len(gf)-1):\n",
    "        story_num.append(gf.iloc[j][\"story_num\"])\n",
    "        event_1.append(gf.iloc[j][\"event\"])\n",
    "        event_2.append(gf.iloc[j+1][\"event\"])\n",
    "        coherence.append(1)"
   ],
   "metadata": {
    "collapsed": false,
    "pycharm": {
     "name": "#%%\n"
    }
   }
  },
  {
   "cell_type": "code",
   "execution_count": 20,
   "outputs": [
    {
     "data": {
      "text/plain": "   story_num                                            event_1  \\\n0          0  [['talk', 'stall', 'EmptyParameter', 'EmptyPar...   \n1          0  [['Weir', 'enter', 'EmptyParameter', 'EmptyPar...   \n2          0  [['he', 'get', 'angry', 'EmptyParameter', 'Emp...   \n3          0  [['she', 'do', 'anything', 'EmptyParameter', '...   \n4          0  [['she', 'leave', 'EmptyParameter', 'EmptyPara...   \n\n                                             event_2  coherence  \n0  [['Weir', 'enter', 'EmptyParameter', 'EmptyPar...          1  \n1  [['he', 'get', 'angry', 'EmptyParameter', 'Emp...          1  \n2  [['she', 'do', 'anything', 'EmptyParameter', '...          1  \n3  [['she', 'leave', 'EmptyParameter', 'EmptyPara...          1  \n4  [['they', 'allow', 'use', 'EmptyParameter', 'E...          1  ",
      "text/html": "<div>\n<style scoped>\n    .dataframe tbody tr th:only-of-type {\n        vertical-align: middle;\n    }\n\n    .dataframe tbody tr th {\n        vertical-align: top;\n    }\n\n    .dataframe thead th {\n        text-align: right;\n    }\n</style>\n<table border=\"1\" class=\"dataframe\">\n  <thead>\n    <tr style=\"text-align: right;\">\n      <th></th>\n      <th>story_num</th>\n      <th>event_1</th>\n      <th>event_2</th>\n      <th>coherence</th>\n    </tr>\n  </thead>\n  <tbody>\n    <tr>\n      <th>0</th>\n      <td>0</td>\n      <td>[['talk', 'stall', 'EmptyParameter', 'EmptyPar...</td>\n      <td>[['Weir', 'enter', 'EmptyParameter', 'EmptyPar...</td>\n      <td>1</td>\n    </tr>\n    <tr>\n      <th>1</th>\n      <td>0</td>\n      <td>[['Weir', 'enter', 'EmptyParameter', 'EmptyPar...</td>\n      <td>[['he', 'get', 'angry', 'EmptyParameter', 'Emp...</td>\n      <td>1</td>\n    </tr>\n    <tr>\n      <th>2</th>\n      <td>0</td>\n      <td>[['he', 'get', 'angry', 'EmptyParameter', 'Emp...</td>\n      <td>[['she', 'do', 'anything', 'EmptyParameter', '...</td>\n      <td>1</td>\n    </tr>\n    <tr>\n      <th>3</th>\n      <td>0</td>\n      <td>[['she', 'do', 'anything', 'EmptyParameter', '...</td>\n      <td>[['she', 'leave', 'EmptyParameter', 'EmptyPara...</td>\n      <td>1</td>\n    </tr>\n    <tr>\n      <th>4</th>\n      <td>0</td>\n      <td>[['she', 'leave', 'EmptyParameter', 'EmptyPara...</td>\n      <td>[['they', 'allow', 'use', 'EmptyParameter', 'E...</td>\n      <td>1</td>\n    </tr>\n  </tbody>\n</table>\n</div>"
     },
     "execution_count": 20,
     "metadata": {},
     "output_type": "execute_result"
    }
   ],
   "source": [
    "train_pair[\"story_num\"] = story_num\n",
    "train_pair[\"event_1\"] = event_1\n",
    "train_pair[\"event_2\"] = event_2\n",
    "train_pair[\"coherence\"] = coherence\n",
    "train_pair.head()"
   ],
   "metadata": {
    "collapsed": false,
    "pycharm": {
     "name": "#%%\n"
    }
   }
  },
  {
   "cell_type": "code",
   "execution_count": 44,
   "outputs": [
    {
     "name": "stderr",
     "output_type": "stream",
     "text": [
      "100%|██████████████████████████████████████████████████████████████████████████████████████████████████████| 1737/1737 [03:07<00:00,  9.24it/s]\n",
      "100%|███████████████████████████████████████████████████████████████████████████████████████████████▉| 256988/257108 [04:13<00:00, 1014.25it/s]\n"
     ]
    },
    {
     "ename": "ValueError",
     "evalue": "a must be greater than 0 unless no samples are taken",
     "output_type": "error",
     "traceback": [
      "\u001B[0;31m---------------------------------------------------------------------------\u001B[0m",
      "\u001B[0;31mValueError\u001B[0m                                Traceback (most recent call last)",
      "\u001B[0;32m/tmp/ipykernel_608744/1927490935.py\u001B[0m in \u001B[0;36m<module>\u001B[0;34m\u001B[0m\n\u001B[1;32m     20\u001B[0m     \u001B[0mstory_num\u001B[0m\u001B[0;34m.\u001B[0m\u001B[0mappend\u001B[0m\u001B[0;34m(\u001B[0m\u001B[0mtrain\u001B[0m\u001B[0;34m.\u001B[0m\u001B[0miloc\u001B[0m\u001B[0;34m[\u001B[0m\u001B[0mj\u001B[0m\u001B[0;34m]\u001B[0m\u001B[0;34m[\u001B[0m\u001B[0;34m\"story_num\"\u001B[0m\u001B[0;34m]\u001B[0m\u001B[0;34m)\u001B[0m\u001B[0;34m\u001B[0m\u001B[0;34m\u001B[0m\u001B[0m\n\u001B[1;32m     21\u001B[0m     \u001B[0;31m# sample = train[train[\"story_num\"]!=train.iloc[i][\"story_num\"]][\"event\"].sample(n=1)\u001B[0m\u001B[0;34m\u001B[0m\u001B[0;34m\u001B[0m\u001B[0;34m\u001B[0m\u001B[0m\n\u001B[0;32m---> 22\u001B[0;31m     \u001B[0msample\u001B[0m \u001B[0;34m=\u001B[0m \u001B[0mtrain\u001B[0m\u001B[0;34m[\u001B[0m\u001B[0mtrain\u001B[0m\u001B[0;34m[\u001B[0m\u001B[0;34m\"story_num\"\u001B[0m\u001B[0;34m]\u001B[0m\u001B[0;34m==\u001B[0m\u001B[0mtrain\u001B[0m\u001B[0;34m.\u001B[0m\u001B[0miloc\u001B[0m\u001B[0;34m[\u001B[0m\u001B[0mi\u001B[0m\u001B[0;34m]\u001B[0m\u001B[0;34m[\u001B[0m\u001B[0;34m\"story_num\"\u001B[0m\u001B[0;34m]\u001B[0m\u001B[0;34m+\u001B[0m\u001B[0;36m1\u001B[0m\u001B[0;34m]\u001B[0m\u001B[0;34m[\u001B[0m\u001B[0;34m\"event\"\u001B[0m\u001B[0;34m]\u001B[0m\u001B[0;34m.\u001B[0m\u001B[0msample\u001B[0m\u001B[0;34m(\u001B[0m\u001B[0mn\u001B[0m\u001B[0;34m=\u001B[0m\u001B[0;36m1\u001B[0m\u001B[0;34m)\u001B[0m\u001B[0;34m.\u001B[0m\u001B[0mvalues\u001B[0m\u001B[0;34m[\u001B[0m\u001B[0;36m0\u001B[0m\u001B[0;34m]\u001B[0m\u001B[0;34m\u001B[0m\u001B[0;34m\u001B[0m\u001B[0m\n\u001B[0m\u001B[1;32m     23\u001B[0m     \u001B[0mevent_1\u001B[0m\u001B[0;34m.\u001B[0m\u001B[0mappend\u001B[0m\u001B[0;34m(\u001B[0m\u001B[0mtrain\u001B[0m\u001B[0;34m.\u001B[0m\u001B[0miloc\u001B[0m\u001B[0;34m[\u001B[0m\u001B[0mi\u001B[0m\u001B[0;34m]\u001B[0m\u001B[0;34m[\u001B[0m\u001B[0;34m\"event\"\u001B[0m\u001B[0;34m]\u001B[0m\u001B[0;34m)\u001B[0m\u001B[0;34m\u001B[0m\u001B[0;34m\u001B[0m\u001B[0m\n\u001B[1;32m     24\u001B[0m     \u001B[0mevent_2\u001B[0m\u001B[0;34m.\u001B[0m\u001B[0mappend\u001B[0m\u001B[0;34m(\u001B[0m\u001B[0msample\u001B[0m\u001B[0;34m)\u001B[0m\u001B[0;34m\u001B[0m\u001B[0;34m\u001B[0m\u001B[0m\n",
      "\u001B[0;32m~/anaconda3/envs/ml37/lib/python3.7/site-packages/pandas/core/generic.py\u001B[0m in \u001B[0;36msample\u001B[0;34m(self, n, frac, replace, weights, random_state, axis, ignore_index)\u001B[0m\n\u001B[1;32m   5363\u001B[0m             )\n\u001B[1;32m   5364\u001B[0m \u001B[0;34m\u001B[0m\u001B[0m\n\u001B[0;32m-> 5365\u001B[0;31m         \u001B[0mlocs\u001B[0m \u001B[0;34m=\u001B[0m \u001B[0mrs\u001B[0m\u001B[0;34m.\u001B[0m\u001B[0mchoice\u001B[0m\u001B[0;34m(\u001B[0m\u001B[0maxis_length\u001B[0m\u001B[0;34m,\u001B[0m \u001B[0msize\u001B[0m\u001B[0;34m=\u001B[0m\u001B[0mn\u001B[0m\u001B[0;34m,\u001B[0m \u001B[0mreplace\u001B[0m\u001B[0;34m=\u001B[0m\u001B[0mreplace\u001B[0m\u001B[0;34m,\u001B[0m \u001B[0mp\u001B[0m\u001B[0;34m=\u001B[0m\u001B[0mweights\u001B[0m\u001B[0;34m)\u001B[0m\u001B[0;34m\u001B[0m\u001B[0;34m\u001B[0m\u001B[0m\n\u001B[0m\u001B[1;32m   5366\u001B[0m         \u001B[0mresult\u001B[0m \u001B[0;34m=\u001B[0m \u001B[0mself\u001B[0m\u001B[0;34m.\u001B[0m\u001B[0mtake\u001B[0m\u001B[0;34m(\u001B[0m\u001B[0mlocs\u001B[0m\u001B[0;34m,\u001B[0m \u001B[0maxis\u001B[0m\u001B[0;34m=\u001B[0m\u001B[0maxis\u001B[0m\u001B[0;34m)\u001B[0m\u001B[0;34m\u001B[0m\u001B[0;34m\u001B[0m\u001B[0m\n\u001B[1;32m   5367\u001B[0m         \u001B[0;32mif\u001B[0m \u001B[0mignore_index\u001B[0m\u001B[0;34m:\u001B[0m\u001B[0;34m\u001B[0m\u001B[0;34m\u001B[0m\u001B[0m\n",
      "\u001B[0;32mmtrand.pyx\u001B[0m in \u001B[0;36mnumpy.random.mtrand.RandomState.choice\u001B[0;34m()\u001B[0m\n",
      "\u001B[0;31mValueError\u001B[0m: a must be greater than 0 unless no samples are taken"
     ]
    }
   ],
   "source": [
    "event_1 = []\n",
    "event_2 = []\n",
    "story_num = []\n",
    "coherence = []\n",
    "\n",
    "# Soft Negative Sample (Event from same story)\n",
    "event_by_story = train.groupby(by=\"story_num\")\n",
    "for i in tqdm(range(len(event_by_story))):\n",
    "    gf = event_by_story.get_group(i)\n",
    "    for j in range(len(gf)):\n",
    "        story_num.append(gf.iloc[j][\"story_num\"])\n",
    "        sample = gf.drop(index=gf.iloc[j:j+2].index)[\"event\"].sample(n=1).values[0]\n",
    "        event_1.append(gf.iloc[j][\"event\"])\n",
    "        event_2.append(sample)\n",
    "        coherence.append(0.5)\n",
    "\n",
    "# Hard Negative Sample (Event from other story)\n",
    "hard_negative = pd.DataFrame()\n",
    "for i in tqdm(range(len(train))):\n",
    "    story_num.append(train.iloc[j][\"story_num\"])\n",
    "    # sample = train[train[\"story_num\"]!=train.iloc[i][\"story_num\"]][\"event\"].sample(n=1)\n",
    "    sample = train[train[\"story_num\"]==train.iloc[i][\"story_num\"]+1][\"event\"].sample(n=1).values[0]\n",
    "    event_1.append(train.iloc[i][\"event\"])\n",
    "    event_2.append(sample)\n",
    "    coherence.append(0.3)\n"
   ],
   "metadata": {
    "collapsed": false,
    "pycharm": {
     "name": "#%%\n"
    }
   }
  },
  {
   "cell_type": "code",
   "execution_count": 50,
   "outputs": [
    {
     "data": {
      "text/plain": "   story_num                                            event_1  \\\n0        NaN  [['talk', 'stall', 'EmptyParameter', 'EmptyPar...   \n1        NaN  [['Weir', 'enter', 'EmptyParameter', 'EmptyPar...   \n2        NaN  [['he', 'get', 'angry', 'EmptyParameter', 'Emp...   \n3        NaN  [['she', 'do', 'anything', 'EmptyParameter', '...   \n4        NaN  [['she', 'leave', 'EmptyParameter', 'EmptyPara...   \n\n                                             event_2  coherence  \n0    [['Daniel', 'inform', 'she', 'Lords', 'about']]        0.5  \n1       [['they', 'break', 'free', 'force', 'from']]        0.5  \n2  [['Asgard', 'send', 'fleet', 'EmptyParameter',...        0.5  \n3  [['EmptyParameter', 'ask', 'she', 'EmptyParame...        0.5  \n4  [['they', 'receive', 'message', 'EmptyParamete...        0.5  ",
      "text/html": "<div>\n<style scoped>\n    .dataframe tbody tr th:only-of-type {\n        vertical-align: middle;\n    }\n\n    .dataframe tbody tr th {\n        vertical-align: top;\n    }\n\n    .dataframe thead th {\n        text-align: right;\n    }\n</style>\n<table border=\"1\" class=\"dataframe\">\n  <thead>\n    <tr style=\"text-align: right;\">\n      <th></th>\n      <th>story_num</th>\n      <th>event_1</th>\n      <th>event_2</th>\n      <th>coherence</th>\n    </tr>\n  </thead>\n  <tbody>\n    <tr>\n      <th>0</th>\n      <td>NaN</td>\n      <td>[['talk', 'stall', 'EmptyParameter', 'EmptyPar...</td>\n      <td>[['Daniel', 'inform', 'she', 'Lords', 'about']]</td>\n      <td>0.5</td>\n    </tr>\n    <tr>\n      <th>1</th>\n      <td>NaN</td>\n      <td>[['Weir', 'enter', 'EmptyParameter', 'EmptyPar...</td>\n      <td>[['they', 'break', 'free', 'force', 'from']]</td>\n      <td>0.5</td>\n    </tr>\n    <tr>\n      <th>2</th>\n      <td>NaN</td>\n      <td>[['he', 'get', 'angry', 'EmptyParameter', 'Emp...</td>\n      <td>[['Asgard', 'send', 'fleet', 'EmptyParameter',...</td>\n      <td>0.5</td>\n    </tr>\n    <tr>\n      <th>3</th>\n      <td>NaN</td>\n      <td>[['she', 'do', 'anything', 'EmptyParameter', '...</td>\n      <td>[['EmptyParameter', 'ask', 'she', 'EmptyParame...</td>\n      <td>0.5</td>\n    </tr>\n    <tr>\n      <th>4</th>\n      <td>NaN</td>\n      <td>[['she', 'leave', 'EmptyParameter', 'EmptyPara...</td>\n      <td>[['they', 'receive', 'message', 'EmptyParamete...</td>\n      <td>0.5</td>\n    </tr>\n  </tbody>\n</table>\n</div>"
     },
     "execution_count": 50,
     "metadata": {},
     "output_type": "execute_result"
    }
   ],
   "source": [
    "negative_sample = pd.DataFrame()\n",
    "negative_sample[\"story_num\"] = -1\n",
    "negative_sample[\"event_1\"] = event_1\n",
    "negative_sample[\"event_2\"] = event_2\n",
    "negative_sample[\"coherence\"] = coherence\n",
    "negative_sample.head()"
   ],
   "metadata": {
    "collapsed": false,
    "pycharm": {
     "name": "#%%\n"
    }
   }
  },
  {
   "cell_type": "code",
   "execution_count": 48,
   "outputs": [
    {
     "data": {
      "text/plain": "[0,\n 0,\n 0,\n 0,\n 0,\n 0,\n 0,\n 0,\n 0,\n 0,\n 0,\n 0,\n 0,\n 0,\n 0,\n 0,\n 0,\n 0,\n 0,\n 0,\n 0,\n 0,\n 0,\n 0,\n 0,\n 0,\n 0,\n 0,\n 0,\n 0,\n 0,\n 0,\n 0,\n 0,\n 0,\n 0,\n 0,\n 0,\n 0,\n 0,\n 0,\n 0,\n 0,\n 0,\n 0,\n 0,\n 0,\n 0,\n 0,\n 0,\n 0,\n 0,\n 0,\n 0,\n 0,\n 0,\n 0,\n 0,\n 0,\n 0,\n 0,\n 0,\n 0,\n 0,\n 0,\n 0,\n 0,\n 0,\n 0,\n 0,\n 0,\n 0,\n 0,\n 0,\n 0,\n 0,\n 1,\n 1,\n 1,\n 1,\n 1,\n 1,\n 1,\n 1,\n 1,\n 1,\n 1,\n 1,\n 1,\n 1,\n 1,\n 1,\n 1,\n 1,\n 1,\n 1,\n 1,\n 1,\n 1,\n 1,\n 1,\n 1,\n 1,\n 1,\n 1,\n 1,\n 1,\n 1,\n 1,\n 1,\n 1,\n 1,\n 1,\n 1,\n 1,\n 1,\n 1,\n 1,\n 1,\n 1,\n 1,\n 1,\n 1,\n 1,\n 1,\n 1,\n 1,\n 1,\n 1,\n 1,\n 1,\n 1,\n 1,\n 1,\n 1,\n 1,\n 1,\n 1,\n 1,\n 1,\n 1,\n 1,\n 1,\n 1,\n 1,\n 1,\n 1,\n 1,\n 1,\n 1,\n 1,\n 1,\n 1,\n 1,\n 1,\n 1,\n 1,\n 1,\n 1,\n 1,\n 1,\n 1,\n 1,\n 1,\n 1,\n 1,\n 2,\n 2,\n 2,\n 2,\n 2,\n 2,\n 2,\n 2,\n 2,\n 2,\n 2,\n 2,\n 2,\n 2,\n 2,\n 2,\n 2,\n 2,\n 2,\n 2,\n 2,\n 2,\n 2,\n 2,\n 2,\n 2,\n 2,\n 2,\n 2,\n 2,\n 2,\n 2,\n 2,\n 2,\n 2,\n 2,\n 2,\n 2,\n 2,\n 2,\n 2,\n 3,\n 3,\n 3,\n 3,\n 3,\n 3,\n 3,\n 3,\n 3,\n 3,\n 3,\n 3,\n 3,\n 3,\n 3,\n 3,\n 3,\n 3,\n 3,\n 3,\n 3,\n 3,\n 3,\n 3,\n 3,\n 3,\n 3,\n 3,\n 3,\n 3,\n 3,\n 3,\n 3,\n 3,\n 3,\n 3,\n 3,\n 3,\n 3,\n 3,\n 3,\n 3,\n 3,\n 3,\n 3,\n 3,\n 3,\n 3,\n 3,\n 3,\n 3,\n 3,\n 3,\n 3,\n 3,\n 3,\n 3,\n 3,\n 3,\n 3,\n 4,\n 4,\n 4,\n 4,\n 4,\n 4,\n 4,\n 4,\n 4,\n 4,\n 4,\n 4,\n 4,\n 4,\n 4,\n 4,\n 4,\n 4,\n 4,\n 4,\n 4,\n 4,\n 4,\n 4,\n 4,\n 4,\n 4,\n 4,\n 4,\n 4,\n 4,\n 4,\n 4,\n 4,\n 4,\n 4,\n 4,\n 4,\n 4,\n 4,\n 4,\n 4,\n 4,\n 4,\n 4,\n 4,\n 4,\n 4,\n 4,\n 4,\n 4,\n 4,\n 4,\n 4,\n 4,\n 4,\n 4,\n 4,\n 4,\n 4,\n 4,\n 4,\n 4,\n 4,\n 4,\n 4,\n 4,\n 4,\n 4,\n 4,\n 4,\n 4,\n 4,\n 4,\n 4,\n 4,\n 4,\n 4,\n 4,\n 4,\n 4,\n 4,\n 4,\n 4,\n 4,\n 4,\n 4,\n 4,\n 4,\n 4,\n 4,\n 4,\n 4,\n 4,\n 4,\n 4,\n 4,\n 4,\n 4,\n 4,\n 4,\n 4,\n 4,\n 4,\n 4,\n 4,\n 4,\n 4,\n 4,\n 4,\n 4,\n 4,\n 4,\n 4,\n 4,\n 4,\n 4,\n 4,\n 4,\n 4,\n 4,\n 4,\n 4,\n 4,\n 4,\n 4,\n 4,\n 4,\n 4,\n 4,\n 4,\n 4,\n 4,\n 4,\n 4,\n 4,\n 4,\n 4,\n 4,\n 4,\n 4,\n 4,\n 4,\n 4,\n 4,\n 4,\n 4,\n 4,\n 4,\n 4,\n 4,\n 4,\n 4,\n 4,\n 4,\n 4,\n 4,\n 4,\n 4,\n 4,\n 4,\n 4,\n 4,\n 4,\n 4,\n 4,\n 4,\n 4,\n 4,\n 4,\n 4,\n 4,\n 4,\n 4,\n 4,\n 4,\n 4,\n 4,\n 4,\n 4,\n 4,\n 4,\n 4,\n 4,\n 4,\n 4,\n 4,\n 4,\n 4,\n 4,\n 4,\n 4,\n 4,\n 4,\n 4,\n 4,\n 4,\n 4,\n 4,\n 4,\n 4,\n 4,\n 4,\n 4,\n 4,\n 4,\n 4,\n 4,\n 4,\n 4,\n 4,\n 4,\n 4,\n 4,\n 4,\n 4,\n 4,\n 4,\n 4,\n 4,\n 4,\n 4,\n 4,\n 4,\n 4,\n 4,\n 4,\n 4,\n 4,\n 4,\n 4,\n 4,\n 4,\n 4,\n 4,\n 4,\n 4,\n 4,\n 4,\n 4,\n 4,\n 4,\n 4,\n 4,\n 4,\n 4,\n 4,\n 4,\n 4,\n 4,\n 4,\n 4,\n 4,\n 4,\n 4,\n 4,\n 4,\n 4,\n 4,\n 4,\n 4,\n 4,\n 4,\n 5,\n 5,\n 5,\n 5,\n 5,\n 5,\n 5,\n 5,\n 5,\n 5,\n 5,\n 5,\n 5,\n 5,\n 5,\n 5,\n 5,\n 5,\n 5,\n 5,\n 5,\n 5,\n 5,\n 5,\n 5,\n 5,\n 5,\n 5,\n 5,\n 5,\n 5,\n 5,\n 5,\n 5,\n 5,\n 5,\n 5,\n 5,\n 5,\n 5,\n 5,\n 5,\n 5,\n 5,\n 5,\n 5,\n 5,\n 5,\n 5,\n 5,\n 5,\n 5,\n 5,\n 5,\n 5,\n 5,\n 5,\n 5,\n 5,\n 5,\n 5,\n 5,\n 5,\n 5,\n 5,\n 5,\n 6,\n 6,\n 6,\n 6,\n 6,\n 6,\n 6,\n 6,\n 6,\n 6,\n 6,\n 6,\n 6,\n 6,\n 6,\n 6,\n 6,\n 6,\n 6,\n 6,\n 6,\n 6,\n 6,\n 6,\n 6,\n 6,\n 6,\n 6,\n 6,\n 6,\n 6,\n 6,\n 6,\n 6,\n 6,\n 6,\n 6,\n 6,\n 6,\n 6,\n 6,\n 6,\n 6,\n 6,\n 6,\n 6,\n 6,\n 6,\n 6,\n 6,\n 6,\n 6,\n 6,\n 6,\n 6,\n 6,\n 6,\n 6,\n 6,\n 6,\n 6,\n 6,\n 6,\n 6,\n 6,\n 6,\n 6,\n 6,\n 6,\n 6,\n 6,\n 7,\n 7,\n 7,\n 7,\n 7,\n 7,\n 7,\n 7,\n 7,\n 7,\n 7,\n 7,\n 7,\n 7,\n 7,\n 7,\n 7,\n 7,\n 7,\n 8,\n 8,\n 8,\n 8,\n 8,\n 8,\n 8,\n 8,\n 8,\n 8,\n 8,\n 8,\n 8,\n 8,\n 8,\n 8,\n 8,\n 8,\n 8,\n 8,\n 8,\n 8,\n 8,\n 8,\n 8,\n 8,\n 8,\n 8,\n 8,\n 8,\n 8,\n 8,\n 8,\n 8,\n 8,\n 8,\n 8,\n 8,\n 8,\n 8,\n 8,\n 8,\n 8,\n 8,\n 8,\n 8,\n 8,\n 8,\n 8,\n 8,\n 8,\n 8,\n 8,\n 8,\n 8,\n 8,\n 8,\n 8,\n 8,\n 8,\n 8,\n 8,\n 8,\n 8,\n 8,\n 8,\n 8,\n 8,\n 8,\n 8,\n 8,\n 8,\n 8,\n 8,\n 8,\n 9,\n 9,\n 9,\n 9,\n 9,\n 9,\n 9,\n 9,\n 9,\n 9,\n 9,\n 9,\n 9,\n 9,\n 9,\n 9,\n 9,\n 9,\n 9,\n 9,\n 9,\n 9,\n 9,\n 9,\n 9,\n 9,\n 9,\n 9,\n 9,\n 9,\n 9,\n 9,\n 9,\n 9,\n 9,\n 9,\n 9,\n 9,\n 9,\n 9,\n 9,\n 9,\n 9,\n 9,\n 9,\n 9,\n 9,\n 9,\n 9,\n 9,\n 9,\n 9,\n 9,\n 9,\n 9,\n 9,\n 9,\n 9,\n 9,\n 9,\n 9,\n 9,\n 9,\n 9,\n 9,\n 9,\n 9,\n 9,\n 9,\n 9,\n 9,\n 9,\n 9,\n 9,\n 9,\n 9,\n 9,\n 9,\n 9,\n 9,\n 10,\n 10,\n 10,\n 10,\n 10,\n 10,\n 10,\n 10,\n 10,\n 10,\n 10,\n 10,\n 10,\n 10,\n 10,\n 10,\n 10,\n 10,\n 10,\n 10,\n 10,\n 10,\n 10,\n 10,\n 10,\n 10,\n 10,\n 10,\n 10,\n 11,\n 11,\n 11,\n 11,\n 11,\n 11,\n 11,\n 11,\n 11,\n 11,\n 11,\n 11,\n 11,\n 11,\n 11,\n 11,\n 11,\n 11,\n 11,\n 11,\n 11,\n 11,\n 11,\n 11,\n 11,\n 11,\n 11,\n 11,\n 11,\n 11,\n 11,\n 11,\n 11,\n 11,\n 11,\n 11,\n 11,\n 11,\n 11,\n 11,\n 11,\n 11,\n 11,\n 11,\n 11,\n 11,\n 11,\n 11,\n 11,\n 11,\n 11,\n 11,\n 11,\n 11,\n 11,\n 11,\n 11,\n 12,\n 12,\n 12,\n 12,\n 12,\n 12,\n 12,\n 12,\n 12,\n 12,\n 12,\n 12,\n 12,\n 12,\n 12,\n 12,\n 12,\n 12,\n 12,\n 12,\n 12,\n 12,\n 12,\n 12,\n 12,\n 12,\n 12,\n 12,\n 12,\n 12,\n 12,\n 12,\n 12,\n 12,\n 12,\n 12,\n 12,\n 12,\n 12,\n 12,\n 12,\n 12,\n 12,\n 12,\n 12,\n 12,\n 12,\n 12,\n 12,\n 12,\n 12,\n 12,\n 13,\n 13,\n 13,\n 13,\n 13,\n 13,\n 13,\n 13,\n 13,\n 13,\n 13,\n 13,\n 13,\n 13,\n 13,\n 13,\n 13,\n 13,\n 13,\n 13,\n 13,\n ...]"
     },
     "execution_count": 48,
     "metadata": {},
     "output_type": "execute_result"
    }
   ],
   "source": [
    "story_num"
   ],
   "metadata": {
    "collapsed": false,
    "pycharm": {
     "name": "#%%\n"
    }
   }
  },
  {
   "cell_type": "code",
   "execution_count": 51,
   "outputs": [
    {
     "data": {
      "text/plain": "        story_num                                            event_1  \\\n257108        NaN  [['talk', 'stall', 'EmptyParameter', 'EmptyPar...   \n257109        NaN  [['Weir', 'enter', 'EmptyParameter', 'EmptyPar...   \n257110        NaN  [['he', 'get', 'angry', 'EmptyParameter', 'Emp...   \n257111        NaN  [['she', 'do', 'anything', 'EmptyParameter', '...   \n257112        NaN  [['she', 'leave', 'EmptyParameter', 'EmptyPara...   \n...           ...                                                ...   \n514091        NaN  [['Chakotay', 'try', 'write', 'EmptyParameter'...   \n514092        NaN  [['he', 'understand', 'EmptyParameter', 'Empty...   \n514093        NaN  [['he', 'tell', 'Neelix', 'EmptyParameter', 'E...   \n514094        NaN  [['he', 'know', 'answer', 'EmptyParameter', 'E...   \n514095        NaN  [['Neelix', 'explain', 'EmptyParameter', 'Empt...   \n\n                                                  event_2  coherence  \n257108  [['Walter', 'announce', 'promotion', 'EmptyPar...        0.3  \n257109  [['Walter', 'announce', 'promotion', 'EmptyPar...        0.3  \n257110  [['Oshu', 'ask', 'she', 'EmptyParameter', 'Emp...        0.3  \n257111  [['brethen', 'scurry', 'EmptyParameter', 'Empt...        0.3  \n257112  [['she', 'leave', 'SGC', 'EmptyParameter', 'Em...        0.3  \n...                                                   ...        ...  \n514091  [['Janeway', 'focus', 'EmptyParameter', 'Empty...        0.3  \n514092  [['ship', 'board', 'EmptyParameter', 'party', ...        0.3  \n514093  [['they', 'watch', 'scene', 'EmptyParameter', ...        0.3  \n514094  [['Vaskans', 'hear', 'side', 'EmptyParameter',...        0.3  \n514095  [['they', 'think', 'EmptyParameter', 'android'...        0.3  \n\n[256988 rows x 4 columns]",
      "text/html": "<div>\n<style scoped>\n    .dataframe tbody tr th:only-of-type {\n        vertical-align: middle;\n    }\n\n    .dataframe tbody tr th {\n        vertical-align: top;\n    }\n\n    .dataframe thead th {\n        text-align: right;\n    }\n</style>\n<table border=\"1\" class=\"dataframe\">\n  <thead>\n    <tr style=\"text-align: right;\">\n      <th></th>\n      <th>story_num</th>\n      <th>event_1</th>\n      <th>event_2</th>\n      <th>coherence</th>\n    </tr>\n  </thead>\n  <tbody>\n    <tr>\n      <th>257108</th>\n      <td>NaN</td>\n      <td>[['talk', 'stall', 'EmptyParameter', 'EmptyPar...</td>\n      <td>[['Walter', 'announce', 'promotion', 'EmptyPar...</td>\n      <td>0.3</td>\n    </tr>\n    <tr>\n      <th>257109</th>\n      <td>NaN</td>\n      <td>[['Weir', 'enter', 'EmptyParameter', 'EmptyPar...</td>\n      <td>[['Walter', 'announce', 'promotion', 'EmptyPar...</td>\n      <td>0.3</td>\n    </tr>\n    <tr>\n      <th>257110</th>\n      <td>NaN</td>\n      <td>[['he', 'get', 'angry', 'EmptyParameter', 'Emp...</td>\n      <td>[['Oshu', 'ask', 'she', 'EmptyParameter', 'Emp...</td>\n      <td>0.3</td>\n    </tr>\n    <tr>\n      <th>257111</th>\n      <td>NaN</td>\n      <td>[['she', 'do', 'anything', 'EmptyParameter', '...</td>\n      <td>[['brethen', 'scurry', 'EmptyParameter', 'Empt...</td>\n      <td>0.3</td>\n    </tr>\n    <tr>\n      <th>257112</th>\n      <td>NaN</td>\n      <td>[['she', 'leave', 'EmptyParameter', 'EmptyPara...</td>\n      <td>[['she', 'leave', 'SGC', 'EmptyParameter', 'Em...</td>\n      <td>0.3</td>\n    </tr>\n    <tr>\n      <th>...</th>\n      <td>...</td>\n      <td>...</td>\n      <td>...</td>\n      <td>...</td>\n    </tr>\n    <tr>\n      <th>514091</th>\n      <td>NaN</td>\n      <td>[['Chakotay', 'try', 'write', 'EmptyParameter'...</td>\n      <td>[['Janeway', 'focus', 'EmptyParameter', 'Empty...</td>\n      <td>0.3</td>\n    </tr>\n    <tr>\n      <th>514092</th>\n      <td>NaN</td>\n      <td>[['he', 'understand', 'EmptyParameter', 'Empty...</td>\n      <td>[['ship', 'board', 'EmptyParameter', 'party', ...</td>\n      <td>0.3</td>\n    </tr>\n    <tr>\n      <th>514093</th>\n      <td>NaN</td>\n      <td>[['he', 'tell', 'Neelix', 'EmptyParameter', 'E...</td>\n      <td>[['they', 'watch', 'scene', 'EmptyParameter', ...</td>\n      <td>0.3</td>\n    </tr>\n    <tr>\n      <th>514094</th>\n      <td>NaN</td>\n      <td>[['he', 'know', 'answer', 'EmptyParameter', 'E...</td>\n      <td>[['Vaskans', 'hear', 'side', 'EmptyParameter',...</td>\n      <td>0.3</td>\n    </tr>\n    <tr>\n      <th>514095</th>\n      <td>NaN</td>\n      <td>[['Neelix', 'explain', 'EmptyParameter', 'Empt...</td>\n      <td>[['they', 'think', 'EmptyParameter', 'android'...</td>\n      <td>0.3</td>\n    </tr>\n  </tbody>\n</table>\n<p>256988 rows × 4 columns</p>\n</div>"
     },
     "execution_count": 51,
     "metadata": {},
     "output_type": "execute_result"
    }
   ],
   "source": [
    "negative_sample[negative_sample[\"coherence\"]==0.3]"
   ],
   "metadata": {
    "collapsed": false,
    "pycharm": {
     "name": "#%%\n"
    }
   }
  },
  {
   "cell_type": "code",
   "execution_count": 52,
   "outputs": [],
   "source": [
    "train_pair = pd.concat((train_pair, negative_sample), axis=0)"
   ],
   "metadata": {
    "collapsed": false,
    "pycharm": {
     "name": "#%%\n"
    }
   }
  },
  {
   "cell_type": "code",
   "execution_count": 53,
   "outputs": [
    {
     "data": {
      "text/plain": "        story_num                                            event_1  \\\n0             0.0  [['talk', 'stall', 'EmptyParameter', 'EmptyPar...   \n1             0.0  [['Weir', 'enter', 'EmptyParameter', 'EmptyPar...   \n2             0.0  [['he', 'get', 'angry', 'EmptyParameter', 'Emp...   \n3             0.0  [['she', 'do', 'anything', 'EmptyParameter', '...   \n4             0.0  [['she', 'leave', 'EmptyParameter', 'EmptyPara...   \n...           ...                                                ...   \n514091        0.0  [['Chakotay', 'try', 'write', 'EmptyParameter'...   \n514092        0.0  [['he', 'understand', 'EmptyParameter', 'Empty...   \n514093        0.0  [['he', 'tell', 'Neelix', 'EmptyParameter', 'E...   \n514094        0.0  [['he', 'know', 'answer', 'EmptyParameter', 'E...   \n514095        0.0  [['Neelix', 'explain', 'EmptyParameter', 'Empt...   \n\n                                                  event_2  coherence  \n0       [['Weir', 'enter', 'EmptyParameter', 'EmptyPar...        1.0  \n1       [['he', 'get', 'angry', 'EmptyParameter', 'Emp...        1.0  \n2       [['she', 'do', 'anything', 'EmptyParameter', '...        1.0  \n3       [['she', 'leave', 'EmptyParameter', 'EmptyPara...        1.0  \n4       [['they', 'allow', 'use', 'EmptyParameter', 'E...        1.0  \n...                                                   ...        ...  \n514091  [['Janeway', 'focus', 'EmptyParameter', 'Empty...        0.3  \n514092  [['ship', 'board', 'EmptyParameter', 'party', ...        0.3  \n514093  [['they', 'watch', 'scene', 'EmptyParameter', ...        0.3  \n514094  [['Vaskans', 'hear', 'side', 'EmptyParameter',...        0.3  \n514095  [['they', 'think', 'EmptyParameter', 'android'...        0.3  \n\n[769467 rows x 4 columns]",
      "text/html": "<div>\n<style scoped>\n    .dataframe tbody tr th:only-of-type {\n        vertical-align: middle;\n    }\n\n    .dataframe tbody tr th {\n        vertical-align: top;\n    }\n\n    .dataframe thead th {\n        text-align: right;\n    }\n</style>\n<table border=\"1\" class=\"dataframe\">\n  <thead>\n    <tr style=\"text-align: right;\">\n      <th></th>\n      <th>story_num</th>\n      <th>event_1</th>\n      <th>event_2</th>\n      <th>coherence</th>\n    </tr>\n  </thead>\n  <tbody>\n    <tr>\n      <th>0</th>\n      <td>0.0</td>\n      <td>[['talk', 'stall', 'EmptyParameter', 'EmptyPar...</td>\n      <td>[['Weir', 'enter', 'EmptyParameter', 'EmptyPar...</td>\n      <td>1.0</td>\n    </tr>\n    <tr>\n      <th>1</th>\n      <td>0.0</td>\n      <td>[['Weir', 'enter', 'EmptyParameter', 'EmptyPar...</td>\n      <td>[['he', 'get', 'angry', 'EmptyParameter', 'Emp...</td>\n      <td>1.0</td>\n    </tr>\n    <tr>\n      <th>2</th>\n      <td>0.0</td>\n      <td>[['he', 'get', 'angry', 'EmptyParameter', 'Emp...</td>\n      <td>[['she', 'do', 'anything', 'EmptyParameter', '...</td>\n      <td>1.0</td>\n    </tr>\n    <tr>\n      <th>3</th>\n      <td>0.0</td>\n      <td>[['she', 'do', 'anything', 'EmptyParameter', '...</td>\n      <td>[['she', 'leave', 'EmptyParameter', 'EmptyPara...</td>\n      <td>1.0</td>\n    </tr>\n    <tr>\n      <th>4</th>\n      <td>0.0</td>\n      <td>[['she', 'leave', 'EmptyParameter', 'EmptyPara...</td>\n      <td>[['they', 'allow', 'use', 'EmptyParameter', 'E...</td>\n      <td>1.0</td>\n    </tr>\n    <tr>\n      <th>...</th>\n      <td>...</td>\n      <td>...</td>\n      <td>...</td>\n      <td>...</td>\n    </tr>\n    <tr>\n      <th>514091</th>\n      <td>0.0</td>\n      <td>[['Chakotay', 'try', 'write', 'EmptyParameter'...</td>\n      <td>[['Janeway', 'focus', 'EmptyParameter', 'Empty...</td>\n      <td>0.3</td>\n    </tr>\n    <tr>\n      <th>514092</th>\n      <td>0.0</td>\n      <td>[['he', 'understand', 'EmptyParameter', 'Empty...</td>\n      <td>[['ship', 'board', 'EmptyParameter', 'party', ...</td>\n      <td>0.3</td>\n    </tr>\n    <tr>\n      <th>514093</th>\n      <td>0.0</td>\n      <td>[['he', 'tell', 'Neelix', 'EmptyParameter', 'E...</td>\n      <td>[['they', 'watch', 'scene', 'EmptyParameter', ...</td>\n      <td>0.3</td>\n    </tr>\n    <tr>\n      <th>514094</th>\n      <td>0.0</td>\n      <td>[['he', 'know', 'answer', 'EmptyParameter', 'E...</td>\n      <td>[['Vaskans', 'hear', 'side', 'EmptyParameter',...</td>\n      <td>0.3</td>\n    </tr>\n    <tr>\n      <th>514095</th>\n      <td>0.0</td>\n      <td>[['Neelix', 'explain', 'EmptyParameter', 'Empt...</td>\n      <td>[['they', 'think', 'EmptyParameter', 'android'...</td>\n      <td>0.3</td>\n    </tr>\n  </tbody>\n</table>\n<p>769467 rows × 4 columns</p>\n</div>"
     },
     "execution_count": 53,
     "metadata": {},
     "output_type": "execute_result"
    }
   ],
   "source": [
    "train_pair.fillna(0)"
   ],
   "metadata": {
    "collapsed": false,
    "pycharm": {
     "name": "#%%\n"
    }
   }
  },
  {
   "cell_type": "code",
   "execution_count": null,
   "outputs": [],
   "source": [],
   "metadata": {
    "collapsed": false,
    "pycharm": {
     "name": "#%%\n"
    }
   }
  }
 ],
 "metadata": {
  "kernelspec": {
   "name": "conda-env-ml37-py",
   "language": "python",
   "display_name": "Python [conda env:ml37]"
  },
  "language_info": {
   "codemirror_mode": {
    "name": "ipython",
    "version": 2
   },
   "file_extension": ".py",
   "mimetype": "text/x-python",
   "name": "python",
   "nbconvert_exporter": "python",
   "pygments_lexer": "ipython2",
   "version": "2.7.6"
  }
 },
 "nbformat": 4,
 "nbformat_minor": 0
}